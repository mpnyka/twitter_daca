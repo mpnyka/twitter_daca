{
 "cells": [
  {
   "cell_type": "code",
   "execution_count": 3,
   "metadata": {
    "collapsed": true
   },
   "outputs": [],
   "source": [
    "from gensim import corpora\n",
    "import pandas"
   ]
  },
  {
   "cell_type": "code",
   "execution_count": 5,
   "metadata": {
    "collapsed": true
   },
   "outputs": [],
   "source": [
    "tweets = pandas.read_csv('tweets2.csv', lineterminator='\\r')"
   ]
  },
  {
   "cell_type": "code",
   "execution_count": 6,
   "metadata": {
    "collapsed": true
   },
   "outputs": [],
   "source": [
    "tweets = tweets['LIWC_M4.B'].tolist()"
   ]
  },
  {
   "cell_type": "code",
   "execution_count": 7,
   "metadata": {},
   "outputs": [
    {
     "data": {
      "text/plain": [
       "[['fighting', 'dreamers'],\n",
       " ['fuck', '#daca'],\n",
       " ['fighting', 'dreamers'],\n",
       " ['fighting', 'dreamers'],\n",
       " ['i', 'fucking', 'hate', 'dreamers'],\n",
       " ['fighting', 'dreamers'],\n",
       " ['@realdonaldtrump', 'you', 'killed', 'daca,', 'liar.', 'resign!!!!!'],\n",
       " ['@realdonaldtrump', 'daca', 'won', 'shithole', 'loss!', '#loser'],\n",
       " ['@realdonaldtrump',\n",
       "  'you',\n",
       "  'yourself',\n",
       "  'killed',\n",
       "  'daca,',\n",
       "  'lying',\n",
       "  'shitweasel.'],\n",
       " ['@realdonaldtrump',\n",
       "  'you',\n",
       "  'killed',\n",
       "  'daca,',\n",
       "  'moron.',\n",
       "  '#notmypresident',\n",
       "  '#idiot']]"
      ]
     },
     "execution_count": 7,
     "metadata": {},
     "output_type": "execute_result"
    }
   ],
   "source": [
    "# remove common words and tokenize\n",
    "stoplist = set('for a of the and to in on off'.split())\n",
    "texts = [[word for word in tweet.lower().split() if word not in stoplist]\n",
    "         for tweet in tweets]\n",
    "texts[:10]"
   ]
  },
  {
   "cell_type": "code",
   "execution_count": 8,
   "metadata": {
    "collapsed": true
   },
   "outputs": [],
   "source": [
    "# remove words that appear only once\n",
    "from collections import defaultdict\n",
    "frequency = defaultdict(int)\n",
    "for text in texts:\n",
    "     for token in text:\n",
    "            frequency[token] += 1\n",
    "\n",
    "texts = [[token for token in text if frequency[token] > 1]\n",
    "         for text in texts]"
   ]
  },
  {
   "cell_type": "code",
   "execution_count": 9,
   "metadata": {},
   "outputs": [
    {
     "name": "stdout",
     "output_type": "stream",
     "text": [
      "Dictionary(41696 unique tokens: [u'deferment', u'hanging', u'@nijc', u'conv_', u'@citizenwonk']...)\n"
     ]
    }
   ],
   "source": [
    "dictionary = corpora.Dictionary(texts)\n",
    "dictionary.save('deerwester.dict')  # store the dictionary, for future reference\n",
    "print(dictionary)"
   ]
  },
  {
   "cell_type": "code",
   "execution_count": 10,
   "metadata": {
    "collapsed": true
   },
   "outputs": [],
   "source": [
    "import pickle\n",
    "\n",
    "pickle.dump(dictionary, open(\"dearwater.pkl\", \"wb\" ) )"
   ]
  },
  {
   "cell_type": "code",
   "execution_count": null,
   "metadata": {
    "collapsed": true
   },
   "outputs": [],
   "source": []
  }
 ],
 "metadata": {
  "kernelspec": {
   "display_name": "Python 3",
   "language": "python",
   "name": "python3"
  },
  "language_info": {
   "codemirror_mode": {
    "name": "ipython",
    "version": 3
   },
   "file_extension": ".py",
   "mimetype": "text/x-python",
   "name": "python",
   "nbconvert_exporter": "python",
   "pygments_lexer": "ipython3",
   "version": "3.6.3"
  }
 },
 "nbformat": 4,
 "nbformat_minor": 2
}
