{
 "cells": [
  {
   "cell_type": "code",
   "execution_count": 51,
   "metadata": {},
   "outputs": [],
   "source": [
    "from socialsent import util\n",
    "tweets_uniq = util.load_pickle(\"tweets_M_uniq.pkl\")"
   ]
  },
  {
   "cell_type": "code",
   "execution_count": 52,
   "metadata": {},
   "outputs": [],
   "source": [
    "import re\n",
    "\n",
    "tweets_noAT = []\n",
    "for t in tweets_uniq:\n",
    "    t = re.sub(r\"@\\S+\", \"\", t)\n",
    "    tweets_noAT.append(t)"
   ]
  },
  {
   "cell_type": "code",
   "execution_count": 53,
   "metadata": {},
   "outputs": [],
   "source": [
    "tweets_nohash = []\n",
    "for t in tweets_noAT:\n",
    "    t = re.sub(\"#\", \"\", t)\n",
    "    tweets_nohash.append(t)\n"
   ]
  },
  {
   "cell_type": "code",
   "execution_count": 54,
   "metadata": {},
   "outputs": [
    {
     "name": "stdout",
     "output_type": "stream",
     "text": [
      "312209\n",
      "312209\n",
      "312209\n"
     ]
    }
   ],
   "source": [
    "print len(tweets_uniq)\n",
    "print len(tweets_noAT)\n",
    "print len(tweets_nohash)"
   ]
  },
  {
   "cell_type": "code",
   "execution_count": 55,
   "metadata": {},
   "outputs": [],
   "source": [
    "import pandas as pd\n",
    "import pickle\n",
    "\n",
    "tweets_ascii = []\n",
    "for t in tweets_nohash:\n",
    "    tweets_ascii.append(t.lower().encode('ascii', 'ignore'))\n",
    "    \n",
    "df = pd.DataFrame(tweets_ascii, columns=[\"colummn\"])\n",
    "df.to_csv('tweets_M.csv', index=False)\n",
    "pickle.dump(tweets_ascii, open(\"tweets_M.pkl\", \"wb\" ))"
   ]
  },
  {
   "cell_type": "code",
   "execution_count": 56,
   "metadata": {},
   "outputs": [],
   "source": [
    "white_space=[]\n",
    "for t in tweets_ascii:\n",
    "    tt = ' '.join(t.split())\n",
    "    white_space.append(tt)\n",
    "    "
   ]
  },
  {
   "cell_type": "code",
   "execution_count": 57,
   "metadata": {},
   "outputs": [
    {
     "name": "stdout",
     "output_type": "stream",
     "text": [
      "312209\n"
     ]
    }
   ],
   "source": [
    "print len(white_space) \n"
   ]
  },
  {
   "cell_type": "code",
   "execution_count": 58,
   "metadata": {},
   "outputs": [],
   "source": [
    "def f8(seq): # Dave Kirby\n",
    "    seen = set()\n",
    "    # seq is a list of tuples (tweet, day, rt)\n",
    "    # return [(x, day, rt) for (x, day, rt) in seq if x not in seen and not seen.add(x)]\n",
    "    return [x for x in seq if x not in seen and not seen.add(x)]\n",
    "\n",
    "tweets_unique = f8(white_space)"
   ]
  },
  {
   "cell_type": "code",
   "execution_count": 59,
   "metadata": {},
   "outputs": [
    {
     "name": "stdout",
     "output_type": "stream",
     "text": [
      "297223\n",
      "312209\n"
     ]
    }
   ],
   "source": [
    "print len(tweets_unique)\n",
    "print len(tweets_ascii) "
   ]
  },
  {
   "cell_type": "code",
   "execution_count": 60,
   "metadata": {},
   "outputs": [],
   "source": [
    "df = pd.DataFrame(tweets_unique, columns=[\"colummn\"])\n",
    "df.to_csv('tweets_M.csv', index=False)\n",
    "pickle.dump(tweets_unique, open(\"tweets_M.pkl\", \"wb\" ))"
   ]
  },
  {
   "cell_type": "code",
   "execution_count": 64,
   "metadata": {},
   "outputs": [],
   "source": [
    "stopwords= set(line.strip() for line in open('stopwords.txt'))\n",
    "\n",
    "texts = [[word for word in tweet.lower().split() if word not in stopwords]\n",
    "         for tweet in tweets_unique]"
   ]
  },
  {
   "cell_type": "code",
   "execution_count": 38,
   "metadata": {},
   "outputs": [
    {
     "ename": "TypeError",
     "evalue": "unhashable type: 'list'",
     "output_type": "error",
     "traceback": [
      "\u001b[0;31m---------------------------------------------------------------------------\u001b[0m",
      "\u001b[0;31mTypeError\u001b[0m                                 Traceback (most recent call last)",
      "\u001b[0;32m<ipython-input-38-eea1c5f72440>\u001b[0m in \u001b[0;36m<module>\u001b[0;34m()\u001b[0m\n\u001b[1;32m     11\u001b[0m \u001b[0mseen\u001b[0m \u001b[0;34m=\u001b[0m \u001b[0mset\u001b[0m\u001b[0;34m(\u001b[0m\u001b[0;34m)\u001b[0m\u001b[0;34m\u001b[0m\u001b[0m\n\u001b[1;32m     12\u001b[0m \u001b[0;32mfor\u001b[0m \u001b[0mline\u001b[0m \u001b[0;32min\u001b[0m \u001b[0mlst2\u001b[0m\u001b[0;34m:\u001b[0m\u001b[0;34m\u001b[0m\u001b[0m\n\u001b[0;32m---> 13\u001b[0;31m     \u001b[0;32mif\u001b[0m \u001b[0mline\u001b[0m \u001b[0;32mnot\u001b[0m \u001b[0;32min\u001b[0m \u001b[0mseen\u001b[0m\u001b[0;34m:\u001b[0m\u001b[0;34m\u001b[0m\u001b[0m\n\u001b[0m\u001b[1;32m     14\u001b[0m         \u001b[0mseen\u001b[0m\u001b[0;34m.\u001b[0m\u001b[0madd\u001b[0m\u001b[0;34m(\u001b[0m\u001b[0mline\u001b[0m\u001b[0;34m)\u001b[0m\u001b[0;34m\u001b[0m\u001b[0m\n\u001b[1;32m     15\u001b[0m         \u001b[0mlst3\u001b[0m\u001b[0;34m.\u001b[0m\u001b[0mappend\u001b[0m\u001b[0;34m(\u001b[0m\u001b[0mline\u001b[0m\u001b[0;34m)\u001b[0m\u001b[0;34m\u001b[0m\u001b[0m\n",
      "\u001b[0;31mTypeError\u001b[0m: unhashable type: 'list'"
     ]
    }
   ],
   "source": [
    "def f8(seq): # Dave Kirby\n",
    "    seen = set()\n",
    "    # seq is a list of tuples (tweet, day, rt)\n",
    "    # return [(x, day, rt) for (x, day, rt) in seq if x not in seen and not seen.add(x)]\n",
    "    return [x for x in seq if x not in seen and not seen.add(x)]\n",
    "\n",
    "lst1 = [\"hi\", \"hello\", \"hi\", \"howareyou\", \"hello\"]\n",
    "lst2 = [[\"hi\", \"hello\", \"hi\", \"howareyou\", \"hello\"], [\"hi\", \"hello\", \"hi\", \"howareyou\", \"hello\"], [ \"howareyou\", \"hello\"]]\n",
    "\n",
    "lst3=[]\n",
    "seen = set()\n",
    "for line in lst2:\n",
    "    if line not in seen:\n",
    "        seen.add(line)\n",
    "        lst3.append(line)\n",
    "\n",
    "print lst3\n",
    "   \n",
    "\n",
    "\n",
    "#texts_uniq = f8(lst)\n",
    "#print texts_uniq"
   ]
  },
  {
   "cell_type": "code",
   "execution_count": 65,
   "metadata": {
    "scrolled": false
   },
   "outputs": [],
   "source": [
    "##punctuation removal\n",
    "from nltk.tokenize import RegexpTokenizer\n",
    "\n",
    "textss = []\n",
    "tokenizer = RegexpTokenizer(r'\\w+')\n",
    "\n",
    "for text in texts:\n",
    "    t = []\n",
    "    for word in text:\n",
    "        w = tokenizer.tokenize(word)\n",
    "        ww = ''.join(w)\n",
    "        if len(ww) > 1: \n",
    "            t.append(ww)\n",
    "    textss.append(t)\n",
    "    "
   ]
  },
  {
   "cell_type": "code",
   "execution_count": 66,
   "metadata": {},
   "outputs": [
    {
     "name": "stdout",
     "output_type": "stream",
     "text": [
      "297223\n"
     ]
    }
   ],
   "source": [
    "print len(textss)"
   ]
  },
  {
   "cell_type": "code",
   "execution_count": 67,
   "metadata": {},
   "outputs": [],
   "source": [
    "from collections import defaultdict\n",
    "frequency = defaultdict(int)\n",
    "\n",
    "for text in textss:\n",
    "    for token in text:\n",
    "        frequency[token] += 1\n",
    "    \n",
    "texts = [[token for token in text if frequency[token] > 10]\n",
    "         for text in texts]"
   ]
  },
  {
   "cell_type": "code",
   "execution_count": null,
   "metadata": {},
   "outputs": [],
   "source": []
  },
  {
   "cell_type": "code",
   "execution_count": 68,
   "metadata": {},
   "outputs": [],
   "source": [
    "from gensim import corpora\n",
    "\n",
    "pickle.dump(texts, open(\"tweets_M_token.pkl\", \"wb\"))\n",
    "dictionary = corpora.Dictionary(texts)\n",
    "pickle.dump(dictionary, open(\"twitter_dict.pkl\", \"wb\" ))"
   ]
  },
  {
   "cell_type": "code",
   "execution_count": 69,
   "metadata": {},
   "outputs": [],
   "source": [
    "df = pd.DataFrame(texts)\n",
    "df.to_csv('dictionary.csv', index=False)"
   ]
  },
  {
   "cell_type": "code",
   "execution_count": null,
   "metadata": {},
   "outputs": [],
   "source": [
    "dictionary.doc2idx([\"nodaca\"])\n"
   ]
  },
  {
   "cell_type": "code",
   "execution_count": null,
   "metadata": {},
   "outputs": [],
   "source": []
  }
 ],
 "metadata": {
  "kernelspec": {
   "display_name": "Python 2",
   "language": "python",
   "name": "python2"
  },
  "language_info": {
   "codemirror_mode": {
    "name": "ipython",
    "version": 2
   },
   "file_extension": ".py",
   "mimetype": "text/x-python",
   "name": "python",
   "nbconvert_exporter": "python",
   "pygments_lexer": "ipython2",
   "version": "2.7.13"
  }
 },
 "nbformat": 4,
 "nbformat_minor": 2
}
