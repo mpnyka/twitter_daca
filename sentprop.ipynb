{
 "cells": [
  {
   "cell_type": "code",
   "execution_count": 183,
   "metadata": {},
   "outputs": [],
   "source": [
    "import sys\n",
    "import os\n",
    "import socialsent\n",
    "from socialsent import util, polarity_induction_methods, seeds\n",
    "from socialsent.representations.representation_factory import create_representation\n",
    "from socialsent.polarity_induction_methods import random_walk, _bootstrap_func\n",
    "import functools\n",
    "import numpy as np"
   ]
  },
  {
   "cell_type": "code",
   "execution_count": 197,
   "metadata": {},
   "outputs": [],
   "source": [
    "POSITIVE_DACA = [\"racist\", \"permanent\", \"heretostay\",\"drumpf\", \"defenddreamers\", \"theresistance\", \"racists\",\"protectdreamers\", \"bigotry\", \"undocumented\", \"supremacist\", \"supremacists\", \"future\", \"stand\", \"failed\", \"fail\", \"taxes\", \"solidarity\", \"heretofight\"]\n",
    "NEGATIVE_DACA =[\"illegal\", \"illegals\", \"nodaca\", \"illegally\", \"skip\",  \"maga\", \"criminal\", \"criminals\", \"gang\", \"rapist\", \"aliens\", \"unconstitutional\"]\n",
    "def daca_seeds():\n",
    "    return POSITIVE_DACA, NEGATIVE_DACA\n"
   ]
  },
  {
   "cell_type": "code",
   "execution_count": 198,
   "metadata": {},
   "outputs": [
    {
     "name": "stdout",
     "output_type": "stream",
     "text": [
      "Dictionary(14704 unique tokens: [u'militaryparade', u'deferment', u'yellow', u'prices', u'woods']...)\n"
     ]
    }
   ],
   "source": [
    "word_dict = util.load_pickle(\"twitter_dict.pkl\")\n",
    "print word_dict"
   ]
  },
  {
   "cell_type": "code",
   "execution_count": 199,
   "metadata": {},
   "outputs": [
    {
     "data": {
      "text/plain": [
       "[108]"
      ]
     },
     "execution_count": 199,
     "metadata": {},
     "output_type": "execute_result"
    }
   ],
   "source": [
    "word_dict.doc2idx([\"nodaca\"])\n"
   ]
  },
  {
   "cell_type": "code",
   "execution_count": 200,
   "metadata": {},
   "outputs": [],
   "source": [
    "word_dict.filter_extremes(no_above = 0.5, no_below=50, keep_tokens = POSITIVE_DACA + NEGATIVE_DACA)\n",
    "to_keep = sorted(word_dict.dfs, key=lambda w : word_dict.dfs[w], reverse=True)\n",
    "word_dict.filter_tokens(good_ids=to_keep)\n",
    "outpath = \"data/\"\n"
   ]
  },
  {
   "cell_type": "code",
   "execution_count": 201,
   "metadata": {},
   "outputs": [
    {
     "name": "stdout",
     "output_type": "stream",
     "text": [
      "Dictionary(4954 unique tokens: [u'limited', u'todays', u'chainmigration', u'colleges', u'drumpf']...)\n"
     ]
    },
    {
     "data": {
      "text/plain": [
       "[1009]"
      ]
     },
     "execution_count": 201,
     "metadata": {},
     "output_type": "execute_result"
    }
   ],
   "source": [
    "print word_dict\n",
    "word_dict.doc2idx([\"undocumented\"])"
   ]
  },
  {
   "cell_type": "code",
   "execution_count": 202,
   "metadata": {},
   "outputs": [],
   "source": [
    "sub_vecs = create_representation(\"SVD\", outpath + \"vecs\")\n",
    "pos_seeds, neg_seeds = daca_seeds()\n",
    "sub_vecs = sub_vecs.get_subembed(set(word_dict.token2id.keys()).union(pos_seeds).union(neg_seeds))"
   ]
  },
  {
   "cell_type": "code",
   "execution_count": 203,
   "metadata": {},
   "outputs": [],
   "source": [
    "def bootstrap(embeddings, positive_seeds, negative_seeds, num_boots=10, score_method=random_walk,\n",
    "        boot_size=7, return_all=False, n_procs=15, **kwargs):\n",
    "    map_func = functools.partial(_bootstrap_func, embeddings, positive_seeds, negative_seeds,\n",
    "            boot_size, score_method, **kwargs)\n",
    "    polarities_list = [None] * num_boots \n",
    "    for boot in range(num_boots):\n",
    "        print boot\n",
    "        polarities_list[boot] = map_func(boot)\n",
    "        #print polarities_list\n",
    "    if return_all:\n",
    "        return polarities_list\n",
    "    else:\n",
    "        polarities = {}\n",
    "        for word in polarities_list[0]:\n",
    "            polarities[word] = np.mean([polarities_list[i][word] for i in range(num_boots)])\n",
    "        return polarities"
   ]
  },
  {
   "cell_type": "code",
   "execution_count": 191,
   "metadata": {},
   "outputs": [
    {
     "name": "stdout",
     "output_type": "stream",
     "text": [
      "0\n",
      "1\n",
      "2\n",
      "3\n",
      "4\n",
      "5\n",
      "6\n",
      "7\n",
      "8\n",
      "9\n",
      "10\n",
      "11\n",
      "12\n",
      "13\n",
      "14\n",
      "15\n",
      "16\n",
      "17\n",
      "18\n",
      "19\n",
      "20\n",
      "21\n",
      "22\n",
      "23\n",
      "24\n",
      "25\n",
      "26\n",
      "27\n",
      "28\n",
      "29\n",
      "30\n",
      "31\n",
      "32\n",
      "33\n",
      "34\n",
      "35\n",
      "36\n",
      "37\n",
      "38\n",
      "39\n",
      "40\n",
      "41\n",
      "42\n",
      "43\n",
      "44\n",
      "45\n",
      "46\n",
      "47\n",
      "48\n",
      "49\n"
     ]
    }
   ],
   "source": [
    "polarities_list = bootstrap(sub_vecs, pos_seeds, neg_seeds, return_all=True,\n",
    "                nn=25, beta=0.9, num_boots=50, n_procs=10)\n"
   ]
  },
  {
   "cell_type": "code",
   "execution_count": 205,
   "metadata": {},
   "outputs": [],
   "source": [
    "polarities = {}\n",
    "for word in polarities_list[0]:\n",
    "    polarities[word] = np.nanmean([polarities_list[i][word] for i in range(50)])\n",
    "\n"
   ]
  },
  {
   "cell_type": "code",
   "execution_count": 206,
   "metadata": {},
   "outputs": [],
   "source": [
    "polarities_std = {}\n",
    "for word in polarities_list[0]:\n",
    "    polarities_std[word] = np.std([polarities_list[i][word] for i in range(50)])\n"
   ]
  },
  {
   "cell_type": "code",
   "execution_count": 209,
   "metadata": {},
   "outputs": [],
   "source": [
    "## add the seeds to polarities dict\n",
    "for word in POSITIVE_DACA:\n",
    "    polarities.update({word : 1.0})\n",
    "    polarities_std.update({word : 0.01})\n",
    "for word in NEGATIVE_DACA:\n",
    "    polarities.update({word : 0.0})\n",
    "    polarities_std.update({word : 0.01})\n"
   ]
  },
  {
   "cell_type": "code",
   "execution_count": 208,
   "metadata": {},
   "outputs": [
    {
     "name": "stdout",
     "output_type": "stream",
     "text": [
      "4766\n",
      "4766\n"
     ]
    }
   ],
   "source": [
    "print len(polarities)\n",
    "print len(polarities_std)\n"
   ]
  },
  {
   "cell_type": "code",
   "execution_count": 210,
   "metadata": {},
   "outputs": [],
   "source": [
    "util.write_pickle(polarities, outpath + \"tweets_pol.pkl\")"
   ]
  },
  {
   "cell_type": "code",
   "execution_count": 211,
   "metadata": {},
   "outputs": [],
   "source": [
    "util.write_pickle(polarities_std, outpath + \"tweets_pol_sd.pkl\")"
   ]
  },
  {
   "cell_type": "code",
   "execution_count": 212,
   "metadata": {},
   "outputs": [],
   "source": [
    "df = pd.DataFrame(polarities_std.items())\n",
    "df.to_csv('polarities_std.csv', index=False)"
   ]
  },
  {
   "cell_type": "code",
   "execution_count": null,
   "metadata": {},
   "outputs": [],
   "source": []
  },
  {
   "cell_type": "code",
   "execution_count": null,
   "metadata": {},
   "outputs": [],
   "source": []
  }
 ],
 "metadata": {
  "kernelspec": {
   "display_name": "Python 2",
   "language": "python",
   "name": "python2"
  },
  "language_info": {
   "codemirror_mode": {
    "name": "ipython",
    "version": 2
   },
   "file_extension": ".py",
   "mimetype": "text/x-python",
   "name": "python",
   "nbconvert_exporter": "python",
   "pygments_lexer": "ipython2",
   "version": "2.7.13"
  }
 },
 "nbformat": 4,
 "nbformat_minor": 2
}
